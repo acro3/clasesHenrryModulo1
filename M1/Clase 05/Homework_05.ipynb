{
 "cells": [
  {
   "cell_type": "markdown",
   "metadata": {},
   "source": [
    "# Práctica Clase 5"
   ]
  },
  {
   "cell_type": "markdown",
   "metadata": {},
   "source": [
    "1) Implementar un juego, que consista en apilar números enteros del 1 al 20, de forma aleatoria, para lo cual debe usarse una estructura de Pila. \n",
    "Luego, el usuario debe elegir un número de veces en que se va a quitar elementos de la pila, los cuales, sumados entre sí, no deben superar el valor de 50.\n",
    "El usuario pierde si la suma supera ese valor. Si no lo supera, gana, pero su calificación será 10 menos el número elementos que falten quitar para todavía no superar 50.\n",
    "El programa debe informar si perdió, y si ganó, con qué calificación lo hizo.\n",
    "\n",
    "Consideraciones:<br>\n",
    "a. Se puede usar la función input() para obtener una entrada de teclado.<br>\n",
    "b. Se puede usar la el modulo random para obtener valores aleatorios."
   ]
  },
  {
   "cell_type": "code",
   "execution_count": 124,
   "metadata": {},
   "outputs": [],
   "source": [
    "from random import sample"
   ]
  },
  {
   "cell_type": "code",
   "execution_count": 122,
   "metadata": {},
   "outputs": [],
   "source": [
    "class JuegoNumeros:\n",
    "    def __init__(self):\n",
    "        self.pilaNumeros = []\n",
    "\n",
    "\n",
    "    def llenarPila(self):\n",
    "        self.pilaNumeros = list(sample([x for x in range(1,21)],20))\n",
    "        print(f'la pila es: {self.pilaNumeros}')\n",
    "\n",
    "    def sumarElemento(self, elementos):\n",
    "        self.totalSuma = 0\n",
    "        for i in range(elementos):\n",
    "            self.totalSuma += self.pilaNumeros.pop()\n",
    "        #print(f'la pila quedo asi: {self.pilaNumeros}')\n",
    "        return self.totalSuma\n",
    "    \n",
    "    def encontarPuntage(self):\n",
    "        self.puntage = 10 \n",
    "\n",
    "        while (self.totalSuma <= 50):\n",
    "            self.totalSuma += self.pilaNumeros.pop()\n",
    "            self.puntage -= 1\n",
    "\n",
    "        if self.totalSuma > 50:\n",
    "            return self.puntage + 1\n",
    "        else:\n",
    "            return self.puntage\n",
    "        \n",
    "    def jugar(self):\n",
    "        self.llenarPila()\n",
    "\n",
    "        print('Cuantos elementos quieres sacar de la pila?: ')\n",
    "        self.quitarElem = int(input())\n",
    "        print(f'Se sacaran {self.quitarElem} elementos')\n",
    "        self.sumaElementos = self.sumarElemento(self.quitarElem)\n",
    "\n",
    "        self.estado()\n",
    "\n",
    "        if (self.sumaElementos > 50):\n",
    "            print(f'Perdistes :( Los elementos que salieron suman: {self.sumaElementos})')\n",
    "        else:\n",
    "            print(f'Ganaste :) los elementos que salieron suman {self.sumaElementos}')\n",
    "            print(f'Tu puntage es: {self.encontarPuntage()}')\n",
    "\n",
    "    def estado(self):\n",
    "        print(f'La pila esta: {self.pilaNumeros}')\n",
    "    "
   ]
  },
  {
   "cell_type": "code",
   "execution_count": 123,
   "metadata": {},
   "outputs": [
    {
     "name": "stdout",
     "output_type": "stream",
     "text": [
      "la pila es: [1, 15, 2, 14, 16, 5, 18, 7, 3, 9, 20, 13, 12, 17, 6, 19, 11, 10, 8, 4]\n",
      "Cuantos elementos quieres sacar de la pila?: \n",
      "Se sacaran 4 elementos\n",
      "La pila esta: [1, 15, 2, 14, 16, 5, 18, 7, 3, 9, 20, 13, 12, 17, 6, 19]\n",
      "Ganaste :) los elementos que salieron suman 33\n",
      "Tu puntage es: 10\n"
     ]
    }
   ],
   "source": [
    "j = JuegoNumeros()\n",
    "j.jugar()"
   ]
  },
  {
   "cell_type": "markdown",
   "metadata": {},
   "source": [
    "2) Implementar un juego donde constas de 2 jarras, de capacidad 5 y 3 litros respectivamente, y debes colocar 4 litros en la jarra de 5L.\n",
    "Las opciones posibles son:\n",
    "* Llenar la jarra de 3 litros\n",
    "* Llenar la jarra de 5 litros\n",
    "* Vaciar la jarra de 3 litros\n",
    "* Vaciar la jarra de 5 litros\n",
    "* Verter el contenido de la jarra de 3 litros en la de 5 litros\n",
    "* Verter el contenido de la jarra de 5 litros en la de 3 litros"
   ]
  },
  {
   "cell_type": "code",
   "execution_count": null,
   "metadata": {},
   "outputs": [],
   "source": []
  }
 ],
 "metadata": {
  "kernelspec": {
   "display_name": "base",
   "language": "python",
   "name": "python3"
  },
  "language_info": {
   "codemirror_mode": {
    "name": "ipython",
    "version": 3
   },
   "file_extension": ".py",
   "mimetype": "text/x-python",
   "name": "python",
   "nbconvert_exporter": "python",
   "pygments_lexer": "ipython3",
   "version": "3.9.13"
  },
  "vscode": {
   "interpreter": {
    "hash": "d0169879ef815c6abfbf15d0ceb8336932ecba263fbcf67a76a7f242c4b8ae3e"
   }
  }
 },
 "nbformat": 4,
 "nbformat_minor": 4
}
