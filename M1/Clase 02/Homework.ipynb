{
 "cells": [
  {
   "cell_type": "markdown",
   "metadata": {},
   "source": [
    "# Práctica Clase 2"
   ]
  },
  {
   "cell_type": "markdown",
   "metadata": {},
   "source": [
    "1) Abrir el archivo \"Emisiones_CO2.csv\" y cargar sus datos en un diccionario."
   ]
  },
  {
   "cell_type": "code",
   "execution_count": 96,
   "metadata": {},
   "outputs": [],
   "source": [
    "dicc_emisiones = {  'cod_pais' : [],\n",
    "                    'nom_pais' : [],\n",
    "                    'region' : [],\n",
    "                    'anio' : [],\n",
    "                    'co2' : [],\n",
    "                    'co2_percapita' : []}"
   ]
  },
  {
   "cell_type": "code",
   "execution_count": 97,
   "metadata": {},
   "outputs": [
    {
     "data": {
      "text/plain": [
       "'Código de país|Nombre del país|Región|Año|CO2 (kt)|CO2 per cápita (toneladas métricas)\\n'"
      ]
     },
     "execution_count": 97,
     "metadata": {},
     "output_type": "execute_result"
    }
   ],
   "source": [
    "import os\n",
    "archivo = open('Emisiones_CO2.csv', encoding='latin-1')\n",
    "\n",
    "next(archivo)"
   ]
  },
  {
   "cell_type": "code",
   "execution_count": 98,
   "metadata": {},
   "outputs": [],
   "source": [
    "for numlinea,linea in enumerate(archivo):\n",
    "    linea = linea.strip()\n",
    "    listaLinea = linea.split('|')\n",
    "\n",
    "    for i, key in enumerate(dicc_emisiones):\n",
    "        dicc_emisiones[key].append(listaLinea[i])\n",
    "\n",
    "archivo.close()\n",
    "    "
   ]
  },
  {
   "attachments": {},
   "cell_type": "markdown",
   "metadata": {},
   "source": [
    "2) a) ¿Cuántas variables hay? <br>\n",
    "b) ¿Qué tipos de datos usar para cada una? <br>\n",
    "c) ¿Qué tipo de variables son? <br>\n",
    "d) ¿Hay valores faltantes? <br>\n",
    "e) ¿Cuál es el total de emisiones de CO2 para 'América Latina y Caribe' en el año 2010?"
   ]
  },
  {
   "attachments": {},
   "cell_type": "markdown",
   "metadata": {},
   "source": [
    "                                SOLUCION"
   ]
  },
  {
   "attachments": {},
   "cell_type": "markdown",
   "metadata": {},
   "source": [
    "a) ¿Cuántas variables hay? <br>"
   ]
  },
  {
   "cell_type": "code",
   "execution_count": 99,
   "metadata": {},
   "outputs": [
    {
     "name": "stdout",
     "output_type": "stream",
     "text": [
      "hay 6 variables\n"
     ]
    }
   ],
   "source": [
    "variavles = len(dicc_emisiones)\n",
    "print(f'hay {variavles} variables')"
   ]
  },
  {
   "attachments": {},
   "cell_type": "markdown",
   "metadata": {},
   "source": [
    "b) ¿Qué tipos de datos usar para cada una? <br>"
   ]
  },
  {
   "cell_type": "code",
   "execution_count": 100,
   "metadata": {},
   "outputs": [
    {
     "name": "stdout",
     "output_type": "stream",
     "text": [
      "cod_pais : ABW\n",
      "nom_pais : Aruba\n",
      "region : América Latina y Caribe\n",
      "anio : 1990\n",
      "co2 : 1.840,83\n",
      "co2_percapita : 29,620164768\n"
     ]
    }
   ],
   "source": [
    "for clave in dicc_emisiones:\n",
    "    print(f'{clave} : {dicc_emisiones[clave][30]}')"
   ]
  },
  {
   "attachments": {},
   "cell_type": "markdown",
   "metadata": {},
   "source": [
    "cod_pais : ABW ---> String <br>\n",
    "nom_pais : Aruba ---> String <br>\n",
    "region : América Latina y Caribe ---> String <br>\n",
    "anio : 1990 ---> Int <br>\n",
    "co2 : 1.840,83 ---> Float <br>\n",
    "co2_percapita : 29,620164768 ---> Float  <br>"
   ]
  },
  {
   "attachments": {},
   "cell_type": "markdown",
   "metadata": {},
   "source": [
    "c) ¿Qué tipo de variables son? <br>"
   ]
  },
  {
   "cell_type": "code",
   "execution_count": 101,
   "metadata": {},
   "outputs": [
    {
     "name": "stdout",
     "output_type": "stream",
     "text": [
      "cod_pais : ABW\n",
      "nom_pais : Aruba\n",
      "region : América Latina y Caribe\n",
      "anio : 1990\n",
      "co2 : 1.840,83\n",
      "co2_percapita : 29,620164768\n"
     ]
    }
   ],
   "source": [
    "for clave in dicc_emisiones.keys():\n",
    "    print(f'{clave} : {dicc_emisiones[clave][30]}')"
   ]
  },
  {
   "attachments": {},
   "cell_type": "markdown",
   "metadata": {},
   "source": [
    "cod_pais : ABW                   --> Cualitativo Categorico <br>\n",
    "nom_pais : Aruba                 --> Cualitativo Categorico <br>\n",
    "region : América Latina y Caribe --> Cualitativo Categorico <br>\n",
    "anio : 1990                      --> Cualitatico Ordinal <br>\n",
    "co2 : 1.840,83                   --> Cuantitativo Continuo <br>\n",
    "co2_percapita : 29,620164768     --> Cuantitavio Continuo <br>"
   ]
  },
  {
   "cell_type": "code",
   "execution_count": 102,
   "metadata": {},
   "outputs": [],
   "source": [
    "#Normalisar los volares del diccionario \n",
    "def normalizacion(lista):\n",
    "    for indice, elemento in enumerate(lista):\n",
    "        if elemento:\n",
    "            elemento = elemento.replace('.', '')\n",
    "            elemento = elemento.replace(',', '.')\n",
    "            elemento = float(elemento)\n",
    "        else:\n",
    "            elemento = None\n",
    "        \n",
    "        lista[indice] = elemento\n",
    "\n",
    "    return lista"
   ]
  },
  {
   "cell_type": "code",
   "execution_count": 103,
   "metadata": {},
   "outputs": [],
   "source": [
    "dicc_emisiones['co2'] = normalizacion(dicc_emisiones['co2'])\n",
    "dicc_emisiones['co2_percapita'] = normalizacion(dicc_emisiones['co2_percapita'])"
   ]
  },
  {
   "cell_type": "code",
   "execution_count": 104,
   "metadata": {},
   "outputs": [],
   "source": [
    "#cambiando los datos de la clave anio a datos de tipo entero \n",
    "for indice, valor in enumerate(dicc_emisiones['anio']):\n",
    "    dicc_emisiones['anio'][indice] = int(valor)\n"
   ]
  },
  {
   "attachments": {},
   "cell_type": "markdown",
   "metadata": {},
   "source": [
    "d) ¿Hay valores faltantes? <br>"
   ]
  },
  {
   "cell_type": "code",
   "execution_count": 105,
   "metadata": {},
   "outputs": [
    {
     "name": "stdout",
     "output_type": "stream",
     "text": [
      "hay valores faltantes en {'co2', 'co2_percapita'}\n"
     ]
    }
   ],
   "source": [
    "faltantes = []\n",
    "for clave in dicc_emisiones:\n",
    "    for valor in dicc_emisiones[clave]:\n",
    "        if not valor:\n",
    "            faltantes.append(clave)\n",
    "\n",
    "faltantes = set(faltantes)\n",
    "print(f'hay valores faltantes en {faltantes}')\n"
   ]
  },
  {
   "attachments": {},
   "cell_type": "markdown",
   "metadata": {},
   "source": [
    "e) ¿Cuál es el total de emisiones de CO2 para 'América Latina y Caribe' en el año 2010?"
   ]
  },
  {
   "cell_type": "code",
   "execution_count": 119,
   "metadata": {},
   "outputs": [
    {
     "data": {
      "text/plain": [
       "1691634.8009999995"
      ]
     },
     "execution_count": 119,
     "metadata": {},
     "output_type": "execute_result"
    }
   ],
   "source": [
    "anio = 2010\n",
    "region = 'América Latina y Caribe'\n",
    "emiciones = 0\n",
    "\n",
    "for i in range(len(dicc_emisiones['region'])):\n",
    "    if dicc_emisiones['region'][i]==region and dicc_emisiones['anio'][i]==anio:\n",
    "        if dicc_emisiones['co2'][i]:\n",
    "            emiciones += dicc_emisiones['co2'][i]\n",
    "emiciones"
   ]
  }
 ],
 "metadata": {
  "kernelspec": {
   "display_name": "base",
   "language": "python",
   "name": "python3"
  },
  "language_info": {
   "codemirror_mode": {
    "name": "ipython",
    "version": 3
   },
   "file_extension": ".py",
   "mimetype": "text/x-python",
   "name": "python",
   "nbconvert_exporter": "python",
   "pygments_lexer": "ipython3",
   "version": "3.9.13"
  },
  "vscode": {
   "interpreter": {
    "hash": "ad2bdc8ecc057115af97d19610ffacc2b4e99fae6737bb82f5d7fb13d2f2c186"
   }
  }
 },
 "nbformat": 4,
 "nbformat_minor": 2
}
