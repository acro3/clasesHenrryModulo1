{
 "cells": [
  {
   "cell_type": "markdown",
   "metadata": {},
   "source": [
    "# Práctica Clase 1 "
   ]
  },
  {
   "cell_type": "markdown",
   "metadata": {},
   "source": [
    "1) Crear una función capaz de convertir números enteros de base 10 a base 2. Debe recibir como parámetro el número a convertir<br>\n",
    "Consideraciones:<br> \n",
    "a. Tratar de resolverlo sin usar la función format(nro,\"b\")<br>\n",
    "b. El pdf \"conversion-de-decimal-a-binario.pdf\" puede servir de ayuda.\n"
   ]
  },
  {
   "cell_type": "code",
   "execution_count": 1,
   "metadata": {
    "tags": []
   },
   "outputs": [],
   "source": [
    "def NumeroBinario(numero):\n",
    "    '''\n",
    "    Esta función recibe como parámetro un número entero mayor ó igual a cero y lo devuelve en su \n",
    "    representación binaria. Debe recibir y devolver un valor de tipo entero.\n",
    "    En caso de que el parámetro no sea de tipo entero y mayor a -1 retorna nulo.\n",
    "    '''\n",
    "    if (type(numero)!= int):\n",
    "        return None\n",
    "    if(numero < 0):\n",
    "        return None\n",
    "    if (numero == 0):\n",
    "        return int(0)\n",
    "    #Convertir numero desimal a binario \n",
    "    residuos = []\n",
    "\n",
    "    while (numero >= 1):\n",
    "        residuos.append(int(numero%2))\n",
    "        numero /= 2 \n",
    "\n",
    "    #convirtiendo lista de vinarion en un numero\n",
    "    residuos = residuos[::-1]\n",
    "    residuos = [str(x) for x in residuos]\n",
    "    vinario = ''.join(residuos)\n",
    "    \n",
    "\n",
    "\n",
    "    return int(vinario)\n"
   ]
  },
  {
   "cell_type": "code",
   "execution_count": 3,
   "metadata": {
    "tags": []
   },
   "outputs": [
    {
     "data": {
      "text/plain": [
       "100"
      ]
     },
     "execution_count": 3,
     "metadata": {},
     "output_type": "execute_result"
    }
   ],
   "source": [
    "#Ejemplo:\n",
    "NumeroBinario(4)"
   ]
  },
  {
   "cell_type": "markdown",
   "metadata": {},
   "source": [
    "2) Convertir de decimal a binario las fracciones 1/2, 1/3, 1/4, 1/5, 1/6, 1/7, 1/8, 1/9. Luego analizar los resultados y observar qué particularidad se encuentra en los mismos. Se puede usar Python o una calculadora, lo importante es ver si hay algo que podemos notar..."
   ]
  },
  {
   "cell_type": "markdown",
   "metadata": {},
   "source": [
    "Salida esperada:\n",
    "* Fraccion 1 / 2 :  0.5  y En binario:  0.1\n",
    "* Fraccion 1 / 3 :  0.3333333333333333  y En binario:  0.010101010101010101010101\n",
    "* Fraccion 1 / 4 :  0.25  y En binario:  0.01\n",
    "* Fraccion 1 / 5 :  0.2  y En binario:  0.001100110011001100110011\n",
    "* Fraccion 1 / 6 :  0.16666666666666666  y En binario:  0.001010101010101010101010\n",
    "* Fraccion 1 / 7 :  0.14285714285714285  y En binario:  0.001001001001001001001001\n",
    "* Fraccion 1 / 8 :  0.125  y En binario:  0.001\n",
    "* Fraccion 1 / 9 :  0.1111111111111111  y En binario:  0.000111000111000111000111"
   ]
  },
  {
   "cell_type": "code",
   "execution_count": 2,
   "metadata": {
    "tags": []
   },
   "outputs": [],
   "source": [
    "def fraccionBinario(fraccion):\n",
    "    multiplicaciones = []\n",
    "\n",
    "    while (fraccion > 0):\n",
    "        if(fraccion == 0.0):\n",
    "            break\n",
    "        fraccion *= 2\n",
    "        if (fraccion >= 1):\n",
    "            multiplicaciones.append(int(fraccion))\n",
    "            fraccion = fraccion - int(fraccion)\n",
    "        else:\n",
    "            multiplicaciones.append(int(fraccion))\n",
    "            \n",
    "    #convertir lista Multiplicaciones en dato tipo int.\n",
    "    multiplicaciones = [str(x) for x in multiplicaciones]\n",
    "    vinarioFraccion = '0.' + ''.join(multiplicaciones)\n",
    "           \n",
    "\n",
    "\n",
    "    return float(vinarioFraccion)"
   ]
  },
  {
   "cell_type": "code",
   "execution_count": 3,
   "metadata": {},
   "outputs": [
    {
     "data": {
      "text/plain": [
       "0.0011001100110011"
      ]
     },
     "execution_count": 3,
     "metadata": {},
     "output_type": "execute_result"
    }
   ],
   "source": [
    "fraccionBinario(1/5)"
   ]
  },
  {
   "cell_type": "code",
   "execution_count": null,
   "metadata": {},
   "outputs": [],
   "source": []
  }
 ],
 "metadata": {
  "kernelspec": {
   "display_name": "Python 3 (ipykernel)",
   "language": "python",
   "name": "python3"
  },
  "language_info": {
   "codemirror_mode": {
    "name": "ipython",
    "version": 3
   },
   "file_extension": ".py",
   "mimetype": "text/x-python",
   "name": "python",
   "nbconvert_exporter": "python",
   "pygments_lexer": "ipython3",
   "version": "3.11.2"
  },
  "vscode": {
   "interpreter": {
    "hash": "2aaecbaaf0180072e94cc6e042ed34b2d13e8f4d5be91047e933259278b467c5"
   }
  }
 },
 "nbformat": 4,
 "nbformat_minor": 4
}
