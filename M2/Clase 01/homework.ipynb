{
 "cells": [
  {
   "attachments": {},
   "cell_type": "markdown",
   "id": "c6c2f312",
   "metadata": {},
   "source": [
    "# Homework\n",
    "\n",
    "# Considere el siguiente areglo que contiene la altura de un grupo de estudiantes de Henry:\n",
    "\n",
    "```python\n",
    "muestra = np.array( [[1.85, 1.8, 1.8 , 1.8],\n",
    "                    [1.73,  1.7, 1.75, 1.76],\n",
    "                    [ 1.65, 1.69,  1.67 ,  1.6],\n",
    "                    [1.54,  1.57, 1.58, 1.59],\n",
    "                    [ 1.4 , 1.42,  1.45, 1.48]]) "
   ]
  },
  {
   "cell_type": "code",
   "execution_count": 277,
   "id": "7368892d",
   "metadata": {},
   "outputs": [],
   "source": [
    "import numpy as np\n",
    "import pandas as pd\n",
    "from scipy import stats as st\n",
    "import matplotlib.pyplot as plt"
   ]
  },
  {
   "cell_type": "code",
   "execution_count": 278,
   "id": "96d9263d",
   "metadata": {},
   "outputs": [],
   "source": [
    "muestra = np.array([[1.85, 1.8, 1.8 , 1.8],\n",
    "                    [1.73,  1.7, 1.75, 1.76],\n",
    "                    [ 1.65, 1.69,  1.67 ,  1.6],\n",
    "                    [1.54,  1.57, 1.58, 1.59],\n",
    "                    [ 1.4 , 1.42,  1.45, 1.48]])\n",
    "muestra = muestra.flatten()"
   ]
  },
  {
   "attachments": {},
   "cell_type": "markdown",
   "id": "09823e68",
   "metadata": {},
   "source": [
    "# 1) Calcule\n",
    "\n",
    "- Media."
   ]
  },
  {
   "cell_type": "code",
   "execution_count": 279,
   "id": "40f6a8ee",
   "metadata": {},
   "outputs": [],
   "source": [
    "def media(datos):\n",
    "    suma= 0.0\n",
    "    for i in datos:\n",
    "        suma += i\n",
    "    \n",
    "    return suma / len(datos)\n"
   ]
  },
  {
   "cell_type": "code",
   "execution_count": 280,
   "id": "201e5557",
   "metadata": {},
   "outputs": [
    {
     "data": {
      "text/plain": [
       "1.6415"
      ]
     },
     "execution_count": 280,
     "metadata": {},
     "output_type": "execute_result"
    }
   ],
   "source": [
    "media(muestra)"
   ]
  },
  {
   "attachments": {},
   "cell_type": "markdown",
   "id": "6f756c98",
   "metadata": {},
   "source": [
    "- Mediana."
   ]
  },
  {
   "cell_type": "code",
   "execution_count": 281,
   "id": "79da67b9",
   "metadata": {},
   "outputs": [],
   "source": [
    "def mediana(datos):\n",
    "    #ordeno los datos \n",
    "    datos = sorted(datos)\n",
    "    #encuentor los pocion del dato que se encuentra en el medio de tos los datos \n",
    "    posicion = len(datos) // 2\n",
    "\n",
    "    if len(datos)%2 == 0:\n",
    "        #si los datos son pares, sumo los dos valores de la pocion medio y lo divido por dos \n",
    "        return (datos[posicion - 1] + datos[posicion]) / 2\n",
    "    else:\n",
    "        #si son impares la mediana es el dato que esta en la pociion central\n",
    "        return datos[posicion]\n",
    "    "
   ]
  },
  {
   "cell_type": "code",
   "execution_count": 282,
   "id": "de0e7df6",
   "metadata": {},
   "outputs": [
    {
     "data": {
      "text/plain": [
       "1.66"
      ]
     },
     "execution_count": 282,
     "metadata": {},
     "output_type": "execute_result"
    }
   ],
   "source": [
    "mediana(muestra)"
   ]
  },
  {
   "attachments": {},
   "cell_type": "markdown",
   "id": "14e72c08",
   "metadata": {},
   "source": [
    "- Moda"
   ]
  },
  {
   "cell_type": "code",
   "execution_count": 283,
   "id": "11789a58",
   "metadata": {},
   "outputs": [],
   "source": [
    "def moda(datos):\n",
    "    conteoDatos = max([list(datos).count(i) for i in datos])\n",
    "\n",
    "    return set([i for i in datos if list(datos).count(i) == conteoDatos])"
   ]
  },
  {
   "cell_type": "code",
   "execution_count": 284,
   "id": "2e45930c",
   "metadata": {},
   "outputs": [
    {
     "data": {
      "text/plain": [
       "{1.8}"
      ]
     },
     "execution_count": 284,
     "metadata": {},
     "output_type": "execute_result"
    }
   ],
   "source": [
    "moda(muestra)"
   ]
  },
  {
   "cell_type": "code",
   "execution_count": 285,
   "id": "49e129e6",
   "metadata": {},
   "outputs": [
    {
     "name": "stderr",
     "output_type": "stream",
     "text": [
      "C:\\Users\\salas\\AppData\\Local\\Temp\\ipykernel_9544\\4277774060.py:1: FutureWarning: Unlike other reduction functions (e.g. `skew`, `kurtosis`), the default behavior of `mode` typically preserves the axis it acts along. In SciPy 1.11.0, this behavior will change: the default value of `keepdims` will become False, the `axis` over which the statistic is taken will be eliminated, and the value None will no longer be accepted. Set `keepdims` to True or False to avoid this warning.\n",
      "  st.mode(muestra)\n"
     ]
    },
    {
     "data": {
      "text/plain": [
       "ModeResult(mode=array([1.8]), count=array([3]))"
      ]
     },
     "execution_count": 285,
     "metadata": {},
     "output_type": "execute_result"
    }
   ],
   "source": [
    "st.mode(muestra)"
   ]
  },
  {
   "attachments": {},
   "cell_type": "markdown",
   "id": "7194fecb",
   "metadata": {},
   "source": [
    "- Varianza"
   ]
  },
  {
   "cell_type": "code",
   "execution_count": 286,
   "id": "cdadc08b",
   "metadata": {},
   "outputs": [],
   "source": [
    "def varianza(datos, ddof= 0):\n",
    "    media = np.mean(datos)\n",
    "    diferencias = [(i - media)**2 for i in datos]\n",
    "    sumatoria = sum(diferencias)\n",
    "    \n",
    "    if ddof == 0:\n",
    "        return sumatoria / len(datos)\n",
    "    else:\n",
    "        return sumatoria / len(datos)"
   ]
  },
  {
   "cell_type": "code",
   "execution_count": 287,
   "id": "63c472f7",
   "metadata": {},
   "outputs": [
    {
     "data": {
      "text/plain": [
       "0.017642750000000006"
      ]
     },
     "execution_count": 287,
     "metadata": {},
     "output_type": "execute_result"
    }
   ],
   "source": [
    "varianza(muestra)"
   ]
  },
  {
   "cell_type": "code",
   "execution_count": 288,
   "id": "5561dcc1",
   "metadata": {},
   "outputs": [
    {
     "data": {
      "text/plain": [
       "0.017642750000000006"
      ]
     },
     "execution_count": 288,
     "metadata": {},
     "output_type": "execute_result"
    }
   ],
   "source": [
    "np.var(muestra)"
   ]
  },
  {
   "attachments": {},
   "cell_type": "markdown",
   "id": "504d7c19",
   "metadata": {},
   "source": [
    "- Desvío estándar."
   ]
  },
  {
   "cell_type": "code",
   "execution_count": 289,
   "id": "49a491a6",
   "metadata": {},
   "outputs": [],
   "source": [
    "def desviacionEstandar(datos):\n",
    "    return np.sqrt(np.var(datos))"
   ]
  },
  {
   "cell_type": "code",
   "execution_count": 290,
   "id": "d17223e1",
   "metadata": {},
   "outputs": [
    {
     "data": {
      "text/plain": [
       "0.13282601401833907"
      ]
     },
     "execution_count": 290,
     "metadata": {},
     "output_type": "execute_result"
    }
   ],
   "source": [
    "desviacionEstandar(muestra)"
   ]
  },
  {
   "cell_type": "code",
   "execution_count": 291,
   "id": "3cc473a7",
   "metadata": {},
   "outputs": [
    {
     "data": {
      "text/plain": [
       "0.13282601401833907"
      ]
     },
     "execution_count": 291,
     "metadata": {},
     "output_type": "execute_result"
    }
   ],
   "source": [
    "np.std(muestra)"
   ]
  },
  {
   "attachments": {},
   "cell_type": "markdown",
   "id": "77613e44",
   "metadata": {},
   "source": [
    "# 2) Convierta el arreglo en una lista y realice un Histograma de 5 intervalos. ¿Tiene distribución normal?."
   ]
  },
  {
   "cell_type": "code",
   "execution_count": 292,
   "id": "705282ac",
   "metadata": {},
   "outputs": [
    {
     "data": {
      "text/plain": [
       "(array([4., 2., 4., 5., 5.]),\n",
       " array([1.4 , 1.49, 1.58, 1.67, 1.76, 1.85]),\n",
       " <BarContainer object of 5 artists>)"
      ]
     },
     "execution_count": 292,
     "metadata": {},
     "output_type": "execute_result"
    },
    {
     "data": {
      "image/png": "[encoded data removed]",
      "text/plain": [
       "<Figure size 640x480 with 1 Axes>"
      ]
     },
     "metadata": {},
     "output_type": "display_data"
    }
   ],
   "source": [
    "listaMuestra = muestra.flatten()\n",
    "plt.hist(x=listaMuestra, bins=5, rwidth=0.95)"
   ]
  },
  {
   "attachments": {},
   "cell_type": "markdown",
   "id": "79a3b941",
   "metadata": {},
   "source": [
    "Claramente los datos no tienen una distribucion normal"
   ]
  },
  {
   "attachments": {},
   "cell_type": "markdown",
   "id": "b358bf30",
   "metadata": {},
   "source": [
    "# 3) Con los siguientes datos construye un df y un array que permitan describir adecuadamente la muestra.\n",
    "    'Ingreso en miles' : 10.5 6.8 20.7 18.2 8.6 25.8 22.2 5.9 7.6 11.8\n",
    "    'Años de estudio': 17 18 21 16 16 21 16 14 18 18"
   ]
  },
  {
   "cell_type": "code",
   "execution_count": 293,
   "id": "9e8a1c5a",
   "metadata": {},
   "outputs": [],
   "source": [
    "# crao un dataframe\n",
    "dicDatos = {\n",
    "    'Ingreso en miles' : [10.5, 6.8, 20.7, 18.2, 8.6, 25.8, 22.2, 5.9, 7.6, 11.8],\n",
    "    'Años de estudio': [17, 18, 21, 16, 16, 21, 16, 14, 18, 18]\n",
    "}\n"
   ]
  },
  {
   "cell_type": "code",
   "execution_count": 294,
   "id": "8af11dbb",
   "metadata": {},
   "outputs": [
    {
     "data": {
      "text/html": [
       "<div>\n",
       "<style scoped>\n",
       "    .dataframe tbody tr th:only-of-type {\n",
       "        vertical-align: middle;\n",
       "    }\n",
       "\n",
       "    .dataframe tbody tr th {\n",
       "        vertical-align: top;\n",
       "    }\n",
       "\n",
       "    .dataframe thead th {\n",
       "        text-align: right;\n",
       "    }\n",
       "</style>\n",
       "<table border=\"1\" class=\"dataframe\">\n",
       "  <thead>\n",
       "    <tr style=\"text-align: right;\">\n",
       "      <th></th>\n",
       "      <th>Ingreso en miles</th>\n",
       "      <th>Años de estudio</th>\n",
       "    </tr>\n",
       "  </thead>\n",
       "  <tbody>\n",
       "    <tr>\n",
       "      <th>0</th>\n",
       "      <td>10.5</td>\n",
       "      <td>17</td>\n",
       "    </tr>\n",
       "    <tr>\n",
       "      <th>1</th>\n",
       "      <td>6.8</td>\n",
       "      <td>18</td>\n",
       "    </tr>\n",
       "    <tr>\n",
       "      <th>2</th>\n",
       "      <td>20.7</td>\n",
       "      <td>21</td>\n",
       "    </tr>\n",
       "    <tr>\n",
       "      <th>3</th>\n",
       "      <td>18.2</td>\n",
       "      <td>16</td>\n",
       "    </tr>\n",
       "    <tr>\n",
       "      <th>4</th>\n",
       "      <td>8.6</td>\n",
       "      <td>16</td>\n",
       "    </tr>\n",
       "    <tr>\n",
       "      <th>5</th>\n",
       "      <td>25.8</td>\n",
       "      <td>21</td>\n",
       "    </tr>\n",
       "    <tr>\n",
       "      <th>6</th>\n",
       "      <td>22.2</td>\n",
       "      <td>16</td>\n",
       "    </tr>\n",
       "    <tr>\n",
       "      <th>7</th>\n",
       "      <td>5.9</td>\n",
       "      <td>14</td>\n",
       "    </tr>\n",
       "    <tr>\n",
       "      <th>8</th>\n",
       "      <td>7.6</td>\n",
       "      <td>18</td>\n",
       "    </tr>\n",
       "    <tr>\n",
       "      <th>9</th>\n",
       "      <td>11.8</td>\n",
       "      <td>18</td>\n",
       "    </tr>\n",
       "  </tbody>\n",
       "</table>\n",
       "</div>"
      ],
      "text/plain": [
       "   Ingreso en miles  Años de estudio\n",
       "0              10.5               17\n",
       "1               6.8               18\n",
       "2              20.7               21\n",
       "3              18.2               16\n",
       "4               8.6               16\n",
       "5              25.8               21\n",
       "6              22.2               16\n",
       "7               5.9               14\n",
       "8               7.6               18\n",
       "9              11.8               18"
      ]
     },
     "execution_count": 294,
     "metadata": {},
     "output_type": "execute_result"
    }
   ],
   "source": [
    "df_datos = pd.DataFrame(dicDatos)\n",
    "df_datos"
   ]
  },
  {
   "attachments": {},
   "cell_type": "markdown",
   "id": "4f1ddc92",
   "metadata": {},
   "source": [
    "# 4) Utilizando pandas describa el dataframe."
   ]
  },
  {
   "cell_type": "code",
   "execution_count": 295,
   "id": "593064a8",
   "metadata": {},
   "outputs": [
    {
     "data": {
      "text/html": [
       "<div>\n",
       "<style scoped>\n",
       "    .dataframe tbody tr th:only-of-type {\n",
       "        vertical-align: middle;\n",
       "    }\n",
       "\n",
       "    .dataframe tbody tr th {\n",
       "        vertical-align: top;\n",
       "    }\n",
       "\n",
       "    .dataframe thead th {\n",
       "        text-align: right;\n",
       "    }\n",
       "</style>\n",
       "<table border=\"1\" class=\"dataframe\">\n",
       "  <thead>\n",
       "    <tr style=\"text-align: right;\">\n",
       "      <th></th>\n",
       "      <th>Ingreso en miles</th>\n",
       "      <th>Años de estudio</th>\n",
       "    </tr>\n",
       "  </thead>\n",
       "  <tbody>\n",
       "    <tr>\n",
       "      <th>count</th>\n",
       "      <td>10.000000</td>\n",
       "      <td>10.000000</td>\n",
       "    </tr>\n",
       "    <tr>\n",
       "      <th>mean</th>\n",
       "      <td>13.810000</td>\n",
       "      <td>17.500000</td>\n",
       "    </tr>\n",
       "    <tr>\n",
       "      <th>std</th>\n",
       "      <td>7.251889</td>\n",
       "      <td>2.223611</td>\n",
       "    </tr>\n",
       "    <tr>\n",
       "      <th>min</th>\n",
       "      <td>5.900000</td>\n",
       "      <td>14.000000</td>\n",
       "    </tr>\n",
       "    <tr>\n",
       "      <th>25%</th>\n",
       "      <td>7.850000</td>\n",
       "      <td>16.000000</td>\n",
       "    </tr>\n",
       "    <tr>\n",
       "      <th>50%</th>\n",
       "      <td>11.150000</td>\n",
       "      <td>17.500000</td>\n",
       "    </tr>\n",
       "    <tr>\n",
       "      <th>75%</th>\n",
       "      <td>20.075000</td>\n",
       "      <td>18.000000</td>\n",
       "    </tr>\n",
       "    <tr>\n",
       "      <th>max</th>\n",
       "      <td>25.800000</td>\n",
       "      <td>21.000000</td>\n",
       "    </tr>\n",
       "  </tbody>\n",
       "</table>\n",
       "</div>"
      ],
      "text/plain": [
       "       Ingreso en miles  Años de estudio\n",
       "count         10.000000        10.000000\n",
       "mean          13.810000        17.500000\n",
       "std            7.251889         2.223611\n",
       "min            5.900000        14.000000\n",
       "25%            7.850000        16.000000\n",
       "50%           11.150000        17.500000\n",
       "75%           20.075000        18.000000\n",
       "max           25.800000        21.000000"
      ]
     },
     "execution_count": 295,
     "metadata": {},
     "output_type": "execute_result"
    }
   ],
   "source": [
    "df_datos.describe()"
   ]
  },
  {
   "attachments": {},
   "cell_type": "markdown",
   "id": "ee34af52",
   "metadata": {},
   "source": [
    "# 5) Realice un histograma para de 6 secciones para 'Ingreso en miles' y 'Años de estudio'."
   ]
  },
  {
   "cell_type": "code",
   "execution_count": 296,
   "id": "a4cabcf1",
   "metadata": {},
   "outputs": [
    {
     "data": {
      "text/plain": [
       "(array([4., 2., 0., 1., 2., 1.]),\n",
       " array([ 5.9       ,  9.21666667, 12.53333333, 15.85      , 19.16666667,\n",
       "        22.48333333, 25.8       ]),\n",
       " <BarContainer object of 6 artists>)"
      ]
     },
     "execution_count": 296,
     "metadata": {},
     "output_type": "execute_result"
    },
    {
     "data": {
      "image/png": "[encoded data removed]",
      "text/plain": [
       "<Figure size 640x480 with 1 Axes>"
      ]
     },
     "metadata": {},
     "output_type": "display_data"
    }
   ],
   "source": [
    "plt.hist(x=df_datos['Ingreso en miles'], bins=6, rwidth=0.95)"
   ]
  },
  {
   "cell_type": "code",
   "execution_count": 297,
   "id": "ee02ee51",
   "metadata": {},
   "outputs": [
    {
     "data": {
      "text/plain": [
       "(array([1., 3., 1., 3., 0., 2.]),\n",
       " array([14.        , 15.16666667, 16.33333333, 17.5       , 18.66666667,\n",
       "        19.83333333, 21.        ]),\n",
       " <BarContainer object of 6 artists>)"
      ]
     },
     "execution_count": 297,
     "metadata": {},
     "output_type": "execute_result"
    },
    {
     "data": {
      "image/png": "[encoded data removed]",
      "text/plain": [
       "<Figure size 640x480 with 1 Axes>"
      ]
     },
     "metadata": {},
     "output_type": "display_data"
    }
   ],
   "source": [
    "plt.hist(x=df_datos['Años de estudio'], bins=6, rwidth=0.95)"
   ]
  },
  {
   "attachments": {},
   "cell_type": "markdown",
   "id": "243c2bba",
   "metadata": {},
   "source": [
    "# 6) Calcula la media de 'Ingreso en miles' (df) utilizando pandas."
   ]
  },
  {
   "cell_type": "code",
   "execution_count": 298,
   "id": "35b3387b",
   "metadata": {},
   "outputs": [
    {
     "data": {
      "text/plain": [
       "13.809999999999999"
      ]
     },
     "execution_count": 298,
     "metadata": {},
     "output_type": "execute_result"
    }
   ],
   "source": [
    "df_datos['Ingreso en miles'].mean()"
   ]
  },
  {
   "attachments": {},
   "cell_type": "markdown",
   "id": "fc24d357",
   "metadata": {},
   "source": [
    "# 7) Calcula la media de 'Ingreso en miles' (array) utilizando numpy."
   ]
  },
  {
   "cell_type": "code",
   "execution_count": 299,
   "id": "a9b9dd00",
   "metadata": {},
   "outputs": [
    {
     "data": {
      "text/plain": [
       "13.809999999999999"
      ]
     },
     "execution_count": 299,
     "metadata": {},
     "output_type": "execute_result"
    }
   ],
   "source": [
    "np.mean(df_datos['Ingreso en miles'])"
   ]
  },
  {
   "cell_type": "code",
   "execution_count": 300,
   "id": "362d5ac6",
   "metadata": {},
   "outputs": [
    {
     "data": {
      "text/plain": [
       "52.589888888888886"
      ]
     },
     "execution_count": 300,
     "metadata": {},
     "output_type": "execute_result"
    }
   ],
   "source": [
    "np.var(df_datos['Ingreso en miles'], ddof=1)"
   ]
  },
  {
   "cell_type": "code",
   "execution_count": 301,
   "id": "96cc2660",
   "metadata": {},
   "outputs": [
    {
     "data": {
      "text/plain": [
       "47.3309"
      ]
     },
     "execution_count": 301,
     "metadata": {},
     "output_type": "execute_result"
    }
   ],
   "source": [
    "varianza(df_datos['Ingreso en miles'])"
   ]
  },
  {
   "attachments": {},
   "cell_type": "markdown",
   "id": "658dea1d",
   "metadata": {},
   "source": [
    "# 8) Agregue los siguientes valores extremos al df \\[ 50, 35 \\], \\[ 120, 30 \\]. ¿En cuanto vario la media?, ¿Qué conclusiones obtiene de este resultado sobre la media?."
   ]
  },
  {
   "cell_type": "code",
   "execution_count": 302,
   "id": "6c0059fa",
   "metadata": {},
   "outputs": [
    {
     "name": "stderr",
     "output_type": "stream",
     "text": [
      "C:\\Users\\salas\\AppData\\Local\\Temp\\ipykernel_9544\\1197622534.py:8: FutureWarning: The frame.append method is deprecated and will be removed from pandas in a future version. Use pandas.concat instead.\n",
      "  df_NuevosDatos = df_datos.append(df_NuevosDatos, ignore_index=True)\n"
     ]
    },
    {
     "data": {
      "text/html": [
       "<div>\n",
       "<style scoped>\n",
       "    .dataframe tbody tr th:only-of-type {\n",
       "        vertical-align: middle;\n",
       "    }\n",
       "\n",
       "    .dataframe tbody tr th {\n",
       "        vertical-align: top;\n",
       "    }\n",
       "\n",
       "    .dataframe thead th {\n",
       "        text-align: right;\n",
       "    }\n",
       "</style>\n",
       "<table border=\"1\" class=\"dataframe\">\n",
       "  <thead>\n",
       "    <tr style=\"text-align: right;\">\n",
       "      <th></th>\n",
       "      <th>Ingreso en miles</th>\n",
       "      <th>Años de estudio</th>\n",
       "    </tr>\n",
       "  </thead>\n",
       "  <tbody>\n",
       "    <tr>\n",
       "      <th>0</th>\n",
       "      <td>10.5</td>\n",
       "      <td>17</td>\n",
       "    </tr>\n",
       "    <tr>\n",
       "      <th>1</th>\n",
       "      <td>6.8</td>\n",
       "      <td>18</td>\n",
       "    </tr>\n",
       "    <tr>\n",
       "      <th>2</th>\n",
       "      <td>20.7</td>\n",
       "      <td>21</td>\n",
       "    </tr>\n",
       "    <tr>\n",
       "      <th>3</th>\n",
       "      <td>18.2</td>\n",
       "      <td>16</td>\n",
       "    </tr>\n",
       "    <tr>\n",
       "      <th>4</th>\n",
       "      <td>8.6</td>\n",
       "      <td>16</td>\n",
       "    </tr>\n",
       "    <tr>\n",
       "      <th>5</th>\n",
       "      <td>25.8</td>\n",
       "      <td>21</td>\n",
       "    </tr>\n",
       "    <tr>\n",
       "      <th>6</th>\n",
       "      <td>22.2</td>\n",
       "      <td>16</td>\n",
       "    </tr>\n",
       "    <tr>\n",
       "      <th>7</th>\n",
       "      <td>5.9</td>\n",
       "      <td>14</td>\n",
       "    </tr>\n",
       "    <tr>\n",
       "      <th>8</th>\n",
       "      <td>7.6</td>\n",
       "      <td>18</td>\n",
       "    </tr>\n",
       "    <tr>\n",
       "      <th>9</th>\n",
       "      <td>11.8</td>\n",
       "      <td>18</td>\n",
       "    </tr>\n",
       "    <tr>\n",
       "      <th>10</th>\n",
       "      <td>50.0</td>\n",
       "      <td>35</td>\n",
       "    </tr>\n",
       "    <tr>\n",
       "      <th>11</th>\n",
       "      <td>120.0</td>\n",
       "      <td>30</td>\n",
       "    </tr>\n",
       "  </tbody>\n",
       "</table>\n",
       "</div>"
      ],
      "text/plain": [
       "    Ingreso en miles  Años de estudio\n",
       "0               10.5               17\n",
       "1                6.8               18\n",
       "2               20.7               21\n",
       "3               18.2               16\n",
       "4                8.6               16\n",
       "5               25.8               21\n",
       "6               22.2               16\n",
       "7                5.9               14\n",
       "8                7.6               18\n",
       "9               11.8               18\n",
       "10              50.0               35\n",
       "11             120.0               30"
      ]
     },
     "execution_count": 302,
     "metadata": {},
     "output_type": "execute_result"
    }
   ],
   "source": [
    "nuevosDatos = {\n",
    "    'Ingreso en miles' : [50, 120],\n",
    "    'Años de estudio': [35, 30]\n",
    "}\n",
    "\n",
    "df_NuevosDatos = pd.DataFrame(nuevosDatos)\n",
    "\n",
    "df_NuevosDatos = df_datos.append(df_NuevosDatos, ignore_index=True)\n",
    "df_NuevosDatos"
   ]
  },
  {
   "cell_type": "code",
   "execution_count": 303,
   "id": "d8dd4b41",
   "metadata": {},
   "outputs": [
    {
     "data": {
      "text/plain": [
       "25.675"
      ]
     },
     "execution_count": 303,
     "metadata": {},
     "output_type": "execute_result"
    }
   ],
   "source": [
    "media(df_NuevosDatos['Ingreso en miles'])"
   ]
  },
  {
   "attachments": {},
   "cell_type": "markdown",
   "id": "a4890420",
   "metadata": {},
   "source": [
    "al agregar estos datos se desplaso la media y hace que ya no sea un valor representativo"
   ]
  }
 ],
 "metadata": {
  "kernelspec": {
   "display_name": "Python 3 (ipykernel)",
   "language": "python",
   "name": "python3"
  },
  "language_info": {
   "codemirror_mode": {
    "name": "ipython",
    "version": 3
   },
   "file_extension": ".py",
   "mimetype": "text/x-python",
   "name": "python",
   "nbconvert_exporter": "python",
   "pygments_lexer": "ipython3",
   "version": "3.9.13"
  }
 },
 "nbformat": 4,
 "nbformat_minor": 5
}
